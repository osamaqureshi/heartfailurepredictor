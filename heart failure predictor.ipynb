{
 "cells": [
  {
   "cell_type": "markdown",
   "metadata": {},
   "source": [
    "# Import libraries"
   ]
  },
  {
   "cell_type": "code",
   "execution_count": 50,
   "metadata": {},
   "outputs": [],
   "source": [
    "import pandas as pd\n",
    "import numpy as np\n",
    "import math\n",
    "import scipy.stats as stats\n",
    "\n",
    "% matplotlib inline\n",
    "import matplotlib.pyplot as plt\n",
    "from mpl_toolkits.mplot3d import Axes3D"
   ]
  },
  {
   "cell_type": "markdown",
   "metadata": {},
   "source": [
    "# Import data"
   ]
  },
  {
   "cell_type": "code",
   "execution_count": 3,
   "metadata": {},
   "outputs": [
    {
     "data": {
      "text/html": [
       "<div>\n",
       "<table border=\"1\" class=\"dataframe\">\n",
       "  <thead>\n",
       "    <tr style=\"text-align: right;\">\n",
       "      <th></th>\n",
       "      <th>AVGHEARTBEATSPERMIN</th>\n",
       "      <th>PALPITATIONSPERDAY</th>\n",
       "      <th>CHOLESTEROL</th>\n",
       "      <th>BMI</th>\n",
       "      <th>HEARTFAILURE</th>\n",
       "      <th>AGE</th>\n",
       "      <th>SEX</th>\n",
       "      <th>FAMILYHISTORY</th>\n",
       "      <th>SMOKERLAST5YRS</th>\n",
       "      <th>EXERCISEMINPERWEEK</th>\n",
       "    </tr>\n",
       "  </thead>\n",
       "  <tbody>\n",
       "    <tr>\n",
       "      <th>0</th>\n",
       "      <td>93</td>\n",
       "      <td>22</td>\n",
       "      <td>163</td>\n",
       "      <td>25</td>\n",
       "      <td>N</td>\n",
       "      <td>49</td>\n",
       "      <td>F</td>\n",
       "      <td>N</td>\n",
       "      <td>N</td>\n",
       "      <td>110</td>\n",
       "    </tr>\n",
       "    <tr>\n",
       "      <th>1</th>\n",
       "      <td>108</td>\n",
       "      <td>22</td>\n",
       "      <td>181</td>\n",
       "      <td>24</td>\n",
       "      <td>N</td>\n",
       "      <td>32</td>\n",
       "      <td>F</td>\n",
       "      <td>N</td>\n",
       "      <td>N</td>\n",
       "      <td>192</td>\n",
       "    </tr>\n",
       "    <tr>\n",
       "      <th>2</th>\n",
       "      <td>86</td>\n",
       "      <td>0</td>\n",
       "      <td>239</td>\n",
       "      <td>20</td>\n",
       "      <td>N</td>\n",
       "      <td>60</td>\n",
       "      <td>F</td>\n",
       "      <td>N</td>\n",
       "      <td>N</td>\n",
       "      <td>121</td>\n",
       "    </tr>\n",
       "    <tr>\n",
       "      <th>3</th>\n",
       "      <td>80</td>\n",
       "      <td>36</td>\n",
       "      <td>164</td>\n",
       "      <td>31</td>\n",
       "      <td>Y</td>\n",
       "      <td>45</td>\n",
       "      <td>F</td>\n",
       "      <td>Y</td>\n",
       "      <td>N</td>\n",
       "      <td>141</td>\n",
       "    </tr>\n",
       "    <tr>\n",
       "      <th>4</th>\n",
       "      <td>66</td>\n",
       "      <td>36</td>\n",
       "      <td>185</td>\n",
       "      <td>23</td>\n",
       "      <td>N</td>\n",
       "      <td>39</td>\n",
       "      <td>F</td>\n",
       "      <td>N</td>\n",
       "      <td>N</td>\n",
       "      <td>63</td>\n",
       "    </tr>\n",
       "  </tbody>\n",
       "</table>\n",
       "</div>"
      ],
      "text/plain": [
       "   AVGHEARTBEATSPERMIN  PALPITATIONSPERDAY  CHOLESTEROL  BMI HEARTFAILURE  \\\n",
       "0                   93                  22          163   25            N   \n",
       "1                  108                  22          181   24            N   \n",
       "2                   86                   0          239   20            N   \n",
       "3                   80                  36          164   31            Y   \n",
       "4                   66                  36          185   23            N   \n",
       "\n",
       "   AGE SEX FAMILYHISTORY SMOKERLAST5YRS  EXERCISEMINPERWEEK  \n",
       "0   49   F             N              N                 110  \n",
       "1   32   F             N              N                 192  \n",
       "2   60   F             N              N                 121  \n",
       "3   45   F             Y              N                 141  \n",
       "4   39   F             N              N                  63  "
      ]
     },
     "execution_count": 3,
     "metadata": {},
     "output_type": "execute_result"
    }
   ],
   "source": [
    "import sys\n",
    "import types\n",
    "from botocore.client import Config\n",
    "import ibm_boto3\n",
    "\n",
    "def __iter__(self): return 0\n",
    "\n",
    "# @hidden_cell\n",
    "# The following code accesses a file in your IBM Cloud Object Storage. It includes your credentials.\n",
    "# You might want to remove those credentials before you share your notebook.\n",
    "client_033720b2fef74cf5b63a9bdb7bed3903 = ibm_boto3.client(service_name='s3',\n",
    "    ibm_api_key_id='E2GkkEi5Z8AjA94-WB0U0GhywQe675-Uh0-SzTz-iuk4',\n",
    "    ibm_auth_endpoint=\"https://iam.bluemix.net/oidc/token\",\n",
    "    config=Config(signature_version='oauth'),\n",
    "    endpoint_url='https://s3-api.us-geo.objectstorage.service.networklayer.com')\n",
    "\n",
    "body = client_033720b2fef74cf5b63a9bdb7bed3903.get_object(Bucket='default-donotdelete-pr-6dlbyypvskdhdj',Key='patientdataV6.csv')['Body']\n",
    "# add missing __iter__ method, so pandas accepts body as file-like object\n",
    "if not hasattr(body, \"__iter__\"): body.__iter__ = types.MethodType( __iter__, body )\n",
    "\n",
    "df = pd.read_csv(body)\n",
    "df.head()"
   ]
  },
  {
   "cell_type": "markdown",
   "metadata": {},
   "source": [
    "# Initial Data Exploration"
   ]
  },
  {
   "cell_type": "code",
   "execution_count": 4,
   "metadata": {},
   "outputs": [],
   "source": [
    "headers = list(df)  # column headers"
   ]
  },
  {
   "cell_type": "code",
   "execution_count": 5,
   "metadata": {},
   "outputs": [],
   "source": [
    "df[headers[4]] = [1 if x == 'Y' else 0 for x in df[headers[4]]]\n",
    "df[headers[6]] = [1 if x == 'M' else 0 for x in df[headers[6]]]\n",
    "df[headers[7]] = [1 if x == 'Y' else 0 for x in df[headers[7]]]\n",
    "df[headers[8]] = [1 if x == 'Y' else 0 for x in df[headers[8]]]"
   ]
  },
  {
   "cell_type": "markdown",
   "metadata": {},
   "source": [
    "1. Average heartbeat per minute"
   ]
  },
  {
   "cell_type": "code",
   "execution_count": 6,
   "metadata": {},
   "outputs": [
    {
     "name": "stdout",
     "output_type": "stream",
     "text": [
      "Average heartbeat per minute\n",
      "('[Min,Max]:', [48, 161], ' Mean: ', 87.115092592592589, ' Standard dev: ', 19.743461036381902, ' Skew: ', 0.5131566526920122, ' Kurtosis: ', 0.0076038735785282086)\n"
     ]
    },
    {
     "data": {
      "image/png": "[encoded data removed]",
      "text/plain": [
       "<matplotlib.figure.Figure at 0x7f1dc43eff50>"
      ]
     },
     "metadata": {},
     "output_type": "display_data"
    },
    {
     "data": {
      "image/png": "[encoded data removed]",
      "text/plain": [
       "<matplotlib.figure.Figure at 0x7f1d9eba4150>"
      ]
     },
     "metadata": {},
     "output_type": "display_data"
    }
   ],
   "source": [
    "avg = np.mean(df[headers[0]])\n",
    "std = np.std(df[headers[0]])\n",
    "skew = stats.skew(df[headers[0]])\n",
    "kurtosis = stats.kurtosis(df[headers[0]])\n",
    "\n",
    "print(\"Average heartbeat per minute\")\n",
    "print(\"[Min,Max]:\", [min(df[headers[0]]), max((df[headers[0]]))], \" Mean: \", avg, \" Standard dev: \", std, \" Skew: \", skew, \" Kurtosis: \", kurtosis)\n",
    "\n",
    "# plt.subplot(1,2,1)\n",
    "plt.boxplot(df[headers[0]])\n",
    "plt.show()\n",
    "\n",
    "# plt.subplot(1,2,2)\n",
    "plt.hist(df[headers[0]])\n",
    "plt.show()"
   ]
  },
  {
   "cell_type": "markdown",
   "metadata": {},
   "source": [
    "2. Palpitations per week"
   ]
  },
  {
   "cell_type": "code",
   "execution_count": 7,
   "metadata": {},
   "outputs": [
    {
     "name": "stdout",
     "output_type": "stream",
     "text": [
      "Palpitations per week\n",
      "('[Min,Max]:', [0, 45], ' Mean: ', 20.423148148148147, ' Standard dev: ', 12.164757129309619, ' Skew: ', 0.0142348651185941, ' Kurtosis: ', -1.1748045469529944)\n"
     ]
    },
    {
     "data": {
      "image/png": "[encoded data removed]",
      "text/plain": [
       "<matplotlib.figure.Figure at 0x7f1dc4409510>"
      ]
     },
     "metadata": {},
     "output_type": "display_data"
    },
    {
     "data": {
      "image/png": "[encoded data removed]",
      "text/plain": [
       "<matplotlib.figure.Figure at 0x7f1d9c11a2d0>"
      ]
     },
     "metadata": {},
     "output_type": "display_data"
    }
   ],
   "source": [
    "avg = np.mean(df[headers[1]])\n",
    "std = np.std(df[headers[1]])\n",
    "skew = stats.skew(df[headers[1]])\n",
    "kurtosis = stats.kurtosis(df[headers[1]])\n",
    "\n",
    "print(\"Palpitations per week\")\n",
    "print(\"[Min,Max]:\", [min(df[headers[1]]), max((df[headers[1]]))], \" Mean: \", avg, \" Standard dev: \", std, \" Skew: \", skew, \" Kurtosis: \", kurtosis)\n",
    "\n",
    "plt.boxplot(df[headers[1]])\n",
    "plt.show()\n",
    "\n",
    "plt.hist(df[headers[1]])\n",
    "plt.show()"
   ]
  },
  {
   "cell_type": "markdown",
   "metadata": {},
   "source": [
    "3. Cholesterol"
   ]
  },
  {
   "cell_type": "code",
   "execution_count": 8,
   "metadata": {},
   "outputs": [
    {
     "name": "stdout",
     "output_type": "stream",
     "text": [
      "Cholesterol\n",
      "('[Min,Max]:', [150, 245], ' Mean: ', 195.08027777777778, ' Standard dev: ', 26.135521803148286, ' Skew: ', -0.011978441055597713, ' Kurtosis: ', -1.178430652061176)\n"
     ]
    },
    {
     "data": {
      "image/png": "[encoded data removed]",
      "text/plain": [
       "<matplotlib.figure.Figure at 0x7f1d9c075190>"
      ]
     },
     "metadata": {},
     "output_type": "display_data"
    },
    {
     "data": {
      "image/png": "[encoded data removed]",
      "text/plain": [
       "<matplotlib.figure.Figure at 0x7f1d80fa46d0>"
      ]
     },
     "metadata": {},
     "output_type": "display_data"
    }
   ],
   "source": [
    "avg = np.mean(df[headers[2]])\n",
    "std = np.std(df[headers[2]])\n",
    "skew = stats.skew(df[headers[2]])\n",
    "kurtosis = stats.kurtosis(df[headers[2]])\n",
    "\n",
    "print(\"Cholesterol\")\n",
    "print(\"[Min,Max]:\", [min(df[headers[2]]), max((df[headers[2]]))], \" Mean: \", avg, \" Standard dev: \", std, \" Skew: \", skew, \" Kurtosis: \", kurtosis)\n",
    "\n",
    "plt.boxplot(df[headers[2]])\n",
    "plt.show()\n",
    "\n",
    "plt.hist(df[headers[2]])\n",
    "plt.show()"
   ]
  },
  {
   "cell_type": "markdown",
   "metadata": {},
   "source": [
    "4. BMI"
   ]
  },
  {
   "cell_type": "code",
   "execution_count": 9,
   "metadata": {},
   "outputs": [
    {
     "name": "stdout",
     "output_type": "stream",
     "text": [
      "BMI\n",
      "('[Min,Max]:', [20, 34], ' Mean: ', 26.359722222222221, ' Standard dev: ', 3.819970418329647, ' Skew: ', 0.0029941239533717674, ' Kurtosis: ', -1.133433572009777)\n"
     ]
    },
    {
     "data": {
      "image/png": "[encoded data removed]",
      "text/plain": [
       "<matplotlib.figure.Figure at 0x7f1d9f66cd90>"
      ]
     },
     "metadata": {},
     "output_type": "display_data"
    },
    {
     "data": {
      "image/png": "[encoded data removed]",
      "text/plain": [
       "<matplotlib.figure.Figure at 0x7f1d80e49490>"
      ]
     },
     "metadata": {},
     "output_type": "display_data"
    }
   ],
   "source": [
    "avg = np.mean(df[headers[3]])\n",
    "std = np.std(df[headers[3]])\n",
    "skew = stats.skew(df[headers[3]])\n",
    "kurtosis = stats.kurtosis(df[headers[3]])\n",
    "\n",
    "print(\"BMI\")\n",
    "print(\"[Min,Max]:\", [min(df[headers[3]]), max((df[headers[3]]))], \" Mean: \", avg, \" Standard dev: \", std, \" Skew: \", skew, \" Kurtosis: \", kurtosis)\n",
    "\n",
    "plt.boxplot(df[headers[3]])\n",
    "plt.show()\n",
    "\n",
    "plt.hist(df[headers[3]])\n",
    "plt.show()"
   ]
  },
  {
   "cell_type": "markdown",
   "metadata": {},
   "source": [
    "5. Age"
   ]
  },
  {
   "cell_type": "code",
   "execution_count": 10,
   "metadata": {},
   "outputs": [
    {
     "name": "stdout",
     "output_type": "stream",
     "text": [
      "Age\n",
      "('[Min,Max]:', [28, 72], ' Mean: ', 49.965185185185184, ' Standard dev: ', 13.078675425731474, ' Skew: ', -0.005764791423930337, ' Kurtosis: ', -1.2140849143989947)\n"
     ]
    },
    {
     "data": {
      "image/png": "[encoded data removed]",
      "text/plain": [
       "<matplotlib.figure.Figure at 0x7f1d80cba0d0>"
      ]
     },
     "metadata": {},
     "output_type": "display_data"
    },
    {
     "data": {
      "image/png": "[encoded data removed]",
      "text/plain": [
       "<matplotlib.figure.Figure at 0x7f1d80c89490>"
      ]
     },
     "metadata": {},
     "output_type": "display_data"
    }
   ],
   "source": [
    "avg = np.mean(df[headers[5]])\n",
    "std = np.std(df[headers[5]])\n",
    "skew = stats.skew(df[headers[5]])\n",
    "kurtosis = stats.kurtosis(df[headers[5]])\n",
    "\n",
    "print(\"Age\")\n",
    "print(\"[Min,Max]:\", [min(df[headers[5]]), max((df[headers[5]]))], \" Mean: \", avg, \" Standard dev: \", std, \" Skew: \", skew, \" Kurtosis: \", kurtosis)\n",
    "\n",
    "plt.boxplot(df[headers[5]])\n",
    "plt.show()\n",
    "\n",
    "plt.hist(df[headers[5]])\n",
    "plt.show()"
   ]
  },
  {
   "cell_type": "markdown",
   "metadata": {},
   "source": [
    "6. Sex"
   ]
  },
  {
   "cell_type": "code",
   "execution_count": 11,
   "metadata": {},
   "outputs": [
    {
     "name": "stdout",
     "output_type": "stream",
     "text": [
      "Sex\n",
      "('Male: ', 5346, ' Female: ', 5454)\n"
     ]
    },
    {
     "data": {
      "image/png": "[encoded data removed]",
      "text/plain": [
       "<matplotlib.figure.Figure at 0x7f1d9c224550>"
      ]
     },
     "metadata": {},
     "output_type": "display_data"
    }
   ],
   "source": [
    "count = df[headers[6]].value_counts()\n",
    "\n",
    "print(\"Sex\")\n",
    "print(\"Male: \", count[0], \" Female: \", count[1])\n",
    "\n",
    "plt.hist(df[headers[6]])\n",
    "plt.show()"
   ]
  },
  {
   "cell_type": "markdown",
   "metadata": {},
   "source": [
    "7. Family History"
   ]
  },
  {
   "cell_type": "code",
   "execution_count": 12,
   "metadata": {},
   "outputs": [
    {
     "name": "stdout",
     "output_type": "stream",
     "text": [
      "Family History\n",
      "('Yes: ', 1989, ' No: ', 8811)\n"
     ]
    },
    {
     "data": {
      "image/png": "[encoded data removed]",
      "text/plain": [
       "<matplotlib.figure.Figure at 0x7f1d80d0aa90>"
      ]
     },
     "metadata": {},
     "output_type": "display_data"
    }
   ],
   "source": [
    "count = df[headers[7]].value_counts()\n",
    "\n",
    "print(\"Family History\")\n",
    "print(\"Yes: \", count[1], \" No: \", count[0])\n",
    "\n",
    "plt.hist(df[headers[7]])\n",
    "plt.show()"
   ]
  },
  {
   "cell_type": "markdown",
   "metadata": {},
   "source": [
    "8. Smoker last 5 year"
   ]
  },
  {
   "cell_type": "code",
   "execution_count": 13,
   "metadata": {},
   "outputs": [
    {
     "name": "stdout",
     "output_type": "stream",
     "text": [
      "Smoker last 5 year\n",
      "('Smoker: ', 422, ' Non-smoker: ', 10378)\n"
     ]
    },
    {
     "data": {
      "image/png": "[encoded data removed]",
      "text/plain": [
       "<matplotlib.figure.Figure at 0x7f1d80aafa10>"
      ]
     },
     "metadata": {},
     "output_type": "display_data"
    }
   ],
   "source": [
    "count = df[headers[8]].value_counts()\n",
    "\n",
    "print(\"Smoker last 5 year\")\n",
    "print(\"Smoker: \", count[1], \" Non-smoker: \", count[0])\n",
    "\n",
    "plt.hist(df[headers[8]])\n",
    "plt.show()"
   ]
  },
  {
   "cell_type": "markdown",
   "metadata": {},
   "source": [
    "9. Exercise per minute per week"
   ]
  },
  {
   "cell_type": "code",
   "execution_count": 14,
   "metadata": {},
   "outputs": [
    {
     "name": "stdout",
     "output_type": "stream",
     "text": [
      "Exercise per minute per week\n",
      "('[Min,Max]:', [0, 250], ' Mean: ', 119.72953703703703, ' Standard dev: ', 71.143766142205152, ' Skew: ', 0.06490269137236149, ' Kurtosis: ', -1.1638923286624256)\n"
     ]
    },
    {
     "data": {
      "image/png": "[encoded data removed]",
      "text/plain": [
       "<matplotlib.figure.Figure at 0x7f1d80af0690>"
      ]
     },
     "metadata": {},
     "output_type": "display_data"
    },
    {
     "data": {
      "image/png": "[encoded data removed]",
      "text/plain": [
       "<matplotlib.figure.Figure at 0x7f1d80a58310>"
      ]
     },
     "metadata": {},
     "output_type": "display_data"
    }
   ],
   "source": [
    "avg = np.mean(df[headers[9]])\n",
    "std = np.std(df[headers[9]])\n",
    "skew = stats.skew(df[headers[9]])\n",
    "kurtosis = stats.kurtosis(df[headers[9]])\n",
    "\n",
    "print(\"Exercise per minute per week\")\n",
    "print(\"[Min,Max]:\", [min(df[headers[9]]), max((df[headers[9]]))], \" Mean: \", avg, \" Standard dev: \", std, \" Skew: \", skew, \" Kurtosis: \", kurtosis)\n",
    "\n",
    "plt.boxplot(df[headers[9]])\n",
    "plt.show()\n",
    "\n",
    "plt.hist(df[headers[9]])\n",
    "plt.show()"
   ]
  },
  {
   "cell_type": "markdown",
   "metadata": {},
   "source": [
    "10. Heart Failure"
   ]
  },
  {
   "cell_type": "code",
   "execution_count": 15,
   "metadata": {},
   "outputs": [
    {
     "name": "stdout",
     "output_type": "stream",
     "text": [
      "Heart failure\n",
      "('Yes: ', 1788, ' No: ', 9012)\n"
     ]
    },
    {
     "data": {
      "image/png": "[encoded data removed]",
      "text/plain": [
       "<matplotlib.figure.Figure at 0x7f1d80bff9d0>"
      ]
     },
     "metadata": {},
     "output_type": "display_data"
    }
   ],
   "source": [
    "count = df[headers[4]].value_counts()\n",
    "\n",
    "print(\"Heart failure\")\n",
    "print(\"Yes: \", count[1], \" No: \", count[0])\n",
    "\n",
    "plt.hist(df[headers[4]])\n",
    "plt.show()"
   ]
  },
  {
   "cell_type": "markdown",
   "metadata": {},
   "source": []
  },
  {
   "cell_type": "markdown",
   "metadata": {},
   "source": [
    "# Extract, Transform, Load (ETL)"
   ]
  },
  {
   "cell_type": "markdown",
   "metadata": {},
   "source": []
  },
  {
   "cell_type": "markdown",
   "metadata": {},
   "source": [
    "# Correlation matrix"
   ]
  },
  {
   "cell_type": "code",
   "execution_count": 16,
   "metadata": {},
   "outputs": [
    {
     "data": {
      "text/html": [
       "<div>\n",
       "<table border=\"1\" class=\"dataframe\">\n",
       "  <thead>\n",
       "    <tr style=\"text-align: right;\">\n",
       "      <th></th>\n",
       "      <th>AVGHEARTBEATSPERMIN</th>\n",
       "      <th>PALPITATIONSPERDAY</th>\n",
       "      <th>CHOLESTEROL</th>\n",
       "      <th>BMI</th>\n",
       "      <th>AGE</th>\n",
       "      <th>SEX</th>\n",
       "      <th>FAMILYHISTORY</th>\n",
       "      <th>SMOKERLAST5YRS</th>\n",
       "      <th>EXERCISEMINPERWEEK</th>\n",
       "      <th>label</th>\n",
       "    </tr>\n",
       "  </thead>\n",
       "  <tbody>\n",
       "    <tr>\n",
       "      <th>0</th>\n",
       "      <td>93</td>\n",
       "      <td>22</td>\n",
       "      <td>163</td>\n",
       "      <td>25</td>\n",
       "      <td>49</td>\n",
       "      <td>0</td>\n",
       "      <td>0</td>\n",
       "      <td>0</td>\n",
       "      <td>110</td>\n",
       "      <td>0</td>\n",
       "    </tr>\n",
       "    <tr>\n",
       "      <th>1</th>\n",
       "      <td>108</td>\n",
       "      <td>22</td>\n",
       "      <td>181</td>\n",
       "      <td>24</td>\n",
       "      <td>32</td>\n",
       "      <td>0</td>\n",
       "      <td>0</td>\n",
       "      <td>0</td>\n",
       "      <td>192</td>\n",
       "      <td>0</td>\n",
       "    </tr>\n",
       "    <tr>\n",
       "      <th>2</th>\n",
       "      <td>86</td>\n",
       "      <td>0</td>\n",
       "      <td>239</td>\n",
       "      <td>20</td>\n",
       "      <td>60</td>\n",
       "      <td>0</td>\n",
       "      <td>0</td>\n",
       "      <td>0</td>\n",
       "      <td>121</td>\n",
       "      <td>0</td>\n",
       "    </tr>\n",
       "    <tr>\n",
       "      <th>3</th>\n",
       "      <td>80</td>\n",
       "      <td>36</td>\n",
       "      <td>164</td>\n",
       "      <td>31</td>\n",
       "      <td>45</td>\n",
       "      <td>0</td>\n",
       "      <td>1</td>\n",
       "      <td>0</td>\n",
       "      <td>141</td>\n",
       "      <td>1</td>\n",
       "    </tr>\n",
       "    <tr>\n",
       "      <th>4</th>\n",
       "      <td>66</td>\n",
       "      <td>36</td>\n",
       "      <td>185</td>\n",
       "      <td>23</td>\n",
       "      <td>39</td>\n",
       "      <td>0</td>\n",
       "      <td>0</td>\n",
       "      <td>0</td>\n",
       "      <td>63</td>\n",
       "      <td>0</td>\n",
       "    </tr>\n",
       "  </tbody>\n",
       "</table>\n",
       "</div>"
      ],
      "text/plain": [
       "   AVGHEARTBEATSPERMIN  PALPITATIONSPERDAY  CHOLESTEROL  BMI  AGE  SEX  \\\n",
       "0                   93                  22          163   25   49    0   \n",
       "1                  108                  22          181   24   32    0   \n",
       "2                   86                   0          239   20   60    0   \n",
       "3                   80                  36          164   31   45    0   \n",
       "4                   66                  36          185   23   39    0   \n",
       "\n",
       "   FAMILYHISTORY  SMOKERLAST5YRS  EXERCISEMINPERWEEK  label  \n",
       "0              0               0                 110      0  \n",
       "1              0               0                 192      0  \n",
       "2              0               0                 121      0  \n",
       "3              1               0                 141      1  \n",
       "4              0               0                  63      0  "
      ]
     },
     "execution_count": 16,
     "metadata": {},
     "output_type": "execute_result"
    }
   ],
   "source": [
    "labels = df[headers[4]].values\n",
    "df = df.drop('HEARTFAILURE', axis=1)\n",
    "df['label'] = labels\n",
    "df.head()"
   ]
  },
  {
   "cell_type": "code",
   "execution_count": 17,
   "metadata": {},
   "outputs": [
    {
     "name": "stdout",
     "output_type": "stream",
     "text": [
      "['AVGHEARTBEATSPERMIN', 'PALPITATIONSPERDAY', 'CHOLESTEROL', 'BMI', 'HEARTFAILURE', 'AGE', 'SEX', 'FAMILYHISTORY', 'SMOKERLAST5YRS', 'EXERCISEMINPERWEEK']\n"
     ]
    },
    {
     "data": {
      "text/plain": [
       "array([[  1.000000,   0.006528,   0.005837,   0.050005,  -0.001936,  -0.002783,   0.153367,   0.029828,  -0.019575,   0.218694],\n",
       "       [  0.006528,   1.000000,   0.008507,   0.031096,   0.009795,   0.000794,   0.041322,   0.008423,  -0.009556,   0.054420],\n",
       "       [  0.005837,   0.008507,   1.000000,   0.011770,  -0.012401,   0.004805,   0.006940,   0.002050,  -0.008601,   0.016542],\n",
       "       [  0.050005,   0.031096,   0.011770,   1.000000,  -0.005033,  -0.005911,   0.087891,   0.003152,  -0.035000,   0.136222],\n",
       "       [ -0.001936,   0.009795,  -0.012401,  -0.005033,   1.000000,  -0.000172,  -0.014516,   0.003387,  -0.013585,  -0.017005],\n",
       "       [ -0.002783,   0.000794,   0.004805,  -0.005911,  -0.000172,   1.000000,   0.002176,  -0.010618,   0.014572,  -0.007444],\n",
       "       [  0.153367,   0.041322,   0.006940,   0.087891,  -0.014516,   0.002176,   1.000000,   0.053356,  -0.053195,   0.399565],\n",
       "       [  0.029828,   0.008423,   0.002050,   0.003152,   0.003387,  -0.010618,   0.053356,   1.000000,  -0.009926,   0.081169],\n",
       "       [ -0.019575,  -0.009556,  -0.008601,  -0.035000,  -0.013585,   0.014572,  -0.053195,  -0.009926,   1.000000,  -0.085311],\n",
       "       [  0.218694,   0.054420,   0.016542,   0.136222,  -0.017005,  -0.007444,   0.399565,   0.081169,  -0.085311,   1.000000]])"
      ]
     },
     "execution_count": 17,
     "metadata": {},
     "output_type": "execute_result"
    }
   ],
   "source": [
    "from pyspark.sql import SQLContext\n",
    "from pyspark.mllib.stat import Statistics\n",
    "\n",
    "context = SQLContext(sc)\n",
    "\n",
    "df_sql = context.createDataFrame(df)\n",
    "df_spark = df_sql.rdd.map(lambda row: [row.AVGHEARTBEATSPERMIN, row.PALPITATIONSPERDAY, row.CHOLESTEROL, row.BMI, row.AGE, row.SEX, row.FAMILYHISTORY, row.SMOKERLAST5YRS, row.EXERCISEMINPERWEEK, row.label])\n",
    "corr = Statistics.corr(df_spark)\n",
    "\n",
    "np.set_printoptions(formatter={'float_kind':'{:10f}'.format}, precision=1, linewidth = 200)\n",
    "print(headers)\n",
    "corr"
   ]
  },
  {
   "cell_type": "markdown",
   "metadata": {},
   "source": []
  },
  {
   "cell_type": "markdown",
   "metadata": {},
   "source": [
    "# PCA"
   ]
  },
  {
   "cell_type": "code",
   "execution_count": 53,
   "metadata": {},
   "outputs": [],
   "source": [
    "from pyspark.ml.feature import PCA, VectorAssembler\n",
    "\n",
    "df_sql = context.createDataFrame(df.drop('label', axis=1))\n",
    "\n",
    "assembler = VectorAssembler(inputCols = df_sql.columns, outputCol = 'vector_features')"
   ]
  },
  {
   "cell_type": "code",
   "execution_count": 100,
   "metadata": {},
   "outputs": [
    {
     "data": {
      "text/plain": [
       "275"
      ]
     },
     "execution_count": 100,
     "metadata": {},
     "output_type": "execute_result"
    }
   ],
   "source": [
    "features = assembler.transform(df_sql)\n",
    "\n",
    "pca = PCA(k=3, inputCol = 'vector_features', outputCol = 'pcaFeatures')\n",
    "model = pca.fit(features)\n",
    "pca = model.transform(features).select(\"pcaFeatures\")\n",
    "\n",
    "pca_sample = pca.rdd.sample(False, 0.025)\n",
    "\n",
    "x = pca_sample.map(lambda r: r.pcaFeatures).map(lambda r: r[0]).collect()\n",
    "y = pca_sample.map(lambda r: r.pcaFeatures).map(lambda r: r[1]).collect()\n",
    "z = pca_sample.map(lambda r: r.pcaFeatures).map(lambda r: r[2]).collect()\n",
    "\n",
    "pca_sample.count()"
   ]
  },
  {
   "cell_type": "code",
   "execution_count": 101,
   "metadata": {},
   "outputs": [
    {
     "data": {
      "text/plain": [
       "<matplotlib.text.Text at 0x7f1ba4e8c950>"
      ]
     },
     "execution_count": 101,
     "metadata": {},
     "output_type": "execute_result"
    },
    {
     "data": {
      "image/png": "[encoded data removed]",
      "text/plain": [
       "<matplotlib.figure.Figure at 0x7f1b77ce6410>"
      ]
     },
     "metadata": {},
     "output_type": "display_data"
    }
   ],
   "source": [
    "fig = plt.figure()\n",
    "ax = fig.add_subplot(111, projection='3d')\n",
    "\n",
    "ax.scatter(x, y, z, c = 'r', marker = 'o')\n",
    "ax.set_xlabel('dimension 1')\n",
    "ax.set_ylabel('dimension 2')\n",
    "ax.set_zlabel('dimension 3')"
   ]
  },
  {
   "cell_type": "markdown",
   "metadata": {},
   "source": [
    "# Feature Creation"
   ]
  },
  {
   "cell_type": "markdown",
   "metadata": {},
   "source": [
    "1. For Keras and SKlearn Models"
   ]
  },
  {
   "cell_type": "code",
   "execution_count": 22,
   "metadata": {},
   "outputs": [],
   "source": [
    "from sklearn.preprocessing import MinMaxScaler\n",
    "\n",
    "data = df.drop('label', axis=1)\n",
    "\n",
    "scaler = MinMaxScaler(feature_range=(0, 1))\n",
    "data =  scaler.fit_transform(data)"
   ]
  },
  {
   "cell_type": "code",
   "execution_count": 23,
   "metadata": {},
   "outputs": [],
   "source": [
    "# create train,test,val splits\n",
    "from sklearn.cross_validation import train_test_split\n",
    "\n",
    "train_data, test_data, train_labels, test_labels = train_test_split(data, labels, test_size=0.2, random_state=42)\n",
    "test_data, val_data, test_labels, val_labels = train_test_split(test_data, test_labels, test_size=0.5, random_state=42)"
   ]
  },
  {
   "cell_type": "markdown",
   "metadata": {},
   "source": [
    "2. For SparkML Model"
   ]
  },
  {
   "cell_type": "code",
   "execution_count": 24,
   "metadata": {},
   "outputs": [],
   "source": [
    "from pyspark.ml.feature import MinMaxScaler\n",
    "from pyspark.ml.linalg import Vectors\n",
    "from pyspark.sql.functions import lit"
   ]
  },
  {
   "cell_type": "code",
   "execution_count": 25,
   "metadata": {},
   "outputs": [],
   "source": [
    "from pyspark.ml.feature import MinMaxScaler\n",
    "\n",
    "scaler = MinMaxScaler(inputCol = 'vector_features', outputCol = 'features')"
   ]
  },
  {
   "cell_type": "code",
   "execution_count": 26,
   "metadata": {},
   "outputs": [],
   "source": [
    "from pyspark.ml import Pipeline\n",
    "\n",
    "pipeline = Pipeline(stages=[assembler, scaler])"
   ]
  },
  {
   "cell_type": "markdown",
   "metadata": {},
   "source": [
    "3. For training with PCA features"
   ]
  },
  {
   "cell_type": "code",
   "execution_count": 27,
   "metadata": {},
   "outputs": [],
   "source": [
    "pca_data = pca.rdd.map(lambda row: row.pcaFeatures).collect()\n",
    "pca_data = np.array([[pca_data[i][0], pca_data[i][1], pca_data[i][2]] for i in range(len(pca_data))])"
   ]
  },
  {
   "cell_type": "code",
   "execution_count": 28,
   "metadata": {},
   "outputs": [],
   "source": [
    "# # create train,test,val splits\n",
    "# from sklearn.cross_validation import train_test_split\n",
    "\n",
    "# train_data, test_data, train_labels, test_labels = train_test_split(pca_data, labels, test_size=0.2, random_state=42)\n",
    "# test_data, val_data, test_labels, val_labels = train_test_split(test_data, test_labels, test_size=0.5, random_state=42)"
   ]
  },
  {
   "cell_type": "markdown",
   "metadata": {},
   "source": [
    "# Model Definition"
   ]
  },
  {
   "cell_type": "markdown",
   "metadata": {},
   "source": [
    "1. For Keras Model"
   ]
  },
  {
   "cell_type": "code",
   "execution_count": 29,
   "metadata": {},
   "outputs": [
    {
     "name": "stderr",
     "output_type": "stream",
     "text": [
      "Using TensorFlow backend.\n"
     ]
    }
   ],
   "source": [
    "from keras.models import Sequential\n",
    "from keras.layers import Dense, Activation, Dropout\n",
    "from keras.layers import Conv1D, MaxPooling1D, GlobalAveragePooling1D\n",
    "from keras.callbacks import Callback\n",
    "from keras import optimizers"
   ]
  },
  {
   "cell_type": "code",
   "execution_count": 47,
   "metadata": {},
   "outputs": [],
   "source": [
    "input_dim = 9\n",
    "epochs = 100\n",
    "batch_size = 60\n",
    "samples = 100"
   ]
  },
  {
   "cell_type": "code",
   "execution_count": 89,
   "metadata": {},
   "outputs": [
    {
     "name": "stdout",
     "output_type": "stream",
     "text": [
      "_________________________________________________________________\n",
      "Layer (type)                 Output Shape              Param #   \n",
      "=================================================================\n",
      "dense_24 (Dense)             (None, 512)               5120      \n",
      "_________________________________________________________________\n",
      "dropout_19 (Dropout)         (None, 512)               0         \n",
      "_________________________________________________________________\n",
      "dense_25 (Dense)             (None, 1024)              525312    \n",
      "_________________________________________________________________\n",
      "dropout_20 (Dropout)         (None, 1024)              0         \n",
      "_________________________________________________________________\n",
      "dense_26 (Dense)             (None, 1024)              1049600   \n",
      "_________________________________________________________________\n",
      "dropout_21 (Dropout)         (None, 1024)              0         \n",
      "_________________________________________________________________\n",
      "dense_27 (Dense)             (None, 1)                 1025      \n",
      "=================================================================\n",
      "Total params: 1,581,057\n",
      "Trainable params: 1,581,057\n",
      "Non-trainable params: 0\n",
      "_________________________________________________________________\n"
     ]
    }
   ],
   "source": [
    "model = Sequential()\n",
    "model.add(Dense(512, activation='relu', input_dim = input_dim))\n",
    "model.add(Dropout(0.25))\n",
    "model.add(Dense(1024, activation='relu'))\n",
    "model.add(Dropout(0.25))\n",
    "model.add(Dense(1024, activation='relu'))\n",
    "model.add(Dropout(0.25))\n",
    "\n",
    "model.add(Dense(1, activation='sigmoid'))\n",
    "\n",
    "optimizer = optimizers.Adadelta(lr=1.0, rho=0.95, epsilon=None, decay=0.0)\n",
    "\n",
    "model.compile(loss='binary_crossentropy', optimizer=optimizer, metrics=['accuracy'])\n",
    "# model.save('model.h5')\n",
    "model.summary()"
   ]
  },
  {
   "cell_type": "code",
   "execution_count": 102,
   "metadata": {
    "scrolled": true
   },
   "outputs": [],
   "source": [
    "model.fit(train_data, train_labels, epochs = epochs, batch_size = batch_size, validation_data=(val_data, val_labels))"
   ]
  },
  {
   "cell_type": "markdown",
   "metadata": {},
   "source": [
    "2. For SKlearn Model"
   ]
  },
  {
   "cell_type": "code",
   "execution_count": 103,
   "metadata": {},
   "outputs": [],
   "source": [
    "from sklearn.linear_model import LogisticRegression\n",
    "\n",
    "logReg = LogisticRegression(random_state=0).fit(train_data, train_labels)\n",
    "prediction_logReg = logReg.predict(test_data)"
   ]
  },
  {
   "cell_type": "code",
   "execution_count": 34,
   "metadata": {},
   "outputs": [],
   "source": [
    "from sklearn import svm\n",
    "\n",
    "svm = svm.SVC().fit(train_data, train_labels)\n",
    "prediction_svm = svm.predict(test_data)"
   ]
  },
  {
   "cell_type": "code",
   "execution_count": 80,
   "metadata": {},
   "outputs": [],
   "source": [
    "from sklearn.ensemble import GradientBoostingClassifier\n",
    "\n",
    "gtbc = GradientBoostingClassifier().fit(train_data, train_labels)\n",
    "prediction_gbtc = gtbc.predict(test_data)"
   ]
  },
  {
   "cell_type": "code",
   "execution_count": 82,
   "metadata": {},
   "outputs": [],
   "source": [
    "from sklearn.ensemble import RandomForestClassifier\n",
    "\n",
    "rf = RandomForestClassifier().fit(train_data, train_labels)\n",
    "prediction_rf = rf.predict(test_data)"
   ]
  },
  {
   "cell_type": "markdown",
   "metadata": {},
   "source": [
    "3. For SparkML Model"
   ]
  },
  {
   "cell_type": "code",
   "execution_count": 36,
   "metadata": {},
   "outputs": [],
   "source": [
    "df_sql = context.createDataFrame(df.drop('label', axis=1))\n",
    "\n",
    "x = pipeline.fit(df_sql).transform(df_sql).rdd.map(lambda row: row.features).collect()\n",
    "\n",
    "y = pd.DataFrame({'features':x,'label':labels})\n",
    "data_ml = context.createDataFrame(y)"
   ]
  },
  {
   "cell_type": "code",
   "execution_count": 37,
   "metadata": {},
   "outputs": [],
   "source": [
    "from pyspark.ml.classification import LogisticRegression\n",
    "\n",
    "lr = LogisticRegression(maxIter=100, regParam=0.3, elasticNetParam=0.8)\n",
    "prediction_lr = lr.fit(data_ml).transform(data_ml)"
   ]
  },
  {
   "cell_type": "code",
   "execution_count": 38,
   "metadata": {},
   "outputs": [],
   "source": [
    "from pyspark.ml.classification import GBTClassifier\n",
    "from pyspark.ml.classification import RandomForestClassifier\n",
    "\n",
    "rf = RandomForestClassifier(labelCol=\"label\", featuresCol=\"features\")\n",
    "prediction_rf = rf.fit(data_ml).transform(data_ml)\n",
    "\n",
    "gbt = GBTClassifier(featuresCol = 'features', labelCol = 'label', maxIter = 100)\n",
    "prediction_gbt = gbt.fit(data_ml).transform(data_ml)"
   ]
  },
  {
   "cell_type": "markdown",
   "metadata": {},
   "source": [
    "# Model Evaluation"
   ]
  },
  {
   "cell_type": "markdown",
   "metadata": {},
   "source": [
    "1. For Keras Model"
   ]
  },
  {
   "cell_type": "code",
   "execution_count": null,
   "metadata": {},
   "outputs": [],
   "source": [
    "score = model.evaluate(test_data, test_labels, batch_size = batch_size)\n",
    "print \"Test loss: \", score[0]\n",
    "print \"Test Accuracy: \", score[1]"
   ]
  },
  {
   "cell_type": "raw",
   "metadata": {},
   "source": [
    "sgd = 0.8575, 0.8472\n",
    "adagrad = 0.8618, 0.855\n",
    "rmsprop = 0.8603, 0.843\n",
    "adam = 0.8605, 0.853\n",
    "adadelta = 0.8615, 0.853\n",
    "\n",
    "training on PCA data: \n",
    "adadelta = 83.78"
   ]
  },
  {
   "cell_type": "markdown",
   "metadata": {},
   "source": [
    "2. For SKLearn Model"
   ]
  },
  {
   "cell_type": "code",
   "execution_count": 83,
   "metadata": {},
   "outputs": [
    {
     "name": "stdout",
     "output_type": "stream",
     "text": [
      "('Logistic Regression Accuracy', 0.8481481481481481)\n",
      "('SVM Accuracy', 0.84722222222222221)\n",
      "('GBT Accuracy', 0.85925925925925928)\n",
      "('RF Accuracy', 0.85185185185185186)\n"
     ]
    }
   ],
   "source": [
    "from sklearn.metrics import accuracy_score\n",
    "\n",
    "score_LogReg = accuracy_score(prediction_logReg, test_labels)\n",
    "\n",
    "score_svm = accuracy_score(prediction_svm, test_labels)\n",
    "\n",
    "score_gbtc = accuracy_score(prediction_gbtc, test_labels)\n",
    "\n",
    "score_rf = accuracy_score(prediction_rf, test_labels)\n",
    "\n",
    "\n",
    "print('Logistic Regression Accuracy', score_LogReg)\n",
    "print('SVM Accuracy', score_svm)\n",
    "print('GBT Accuracy', score_gbtc)\n",
    "print('RF Accuracy', score_rf)"
   ]
  },
  {
   "cell_type": "raw",
   "metadata": {},
   "source": [
    "Accuracy:\n",
    "Logistic Regression = 0.8481481481481481\n",
    "SVM = 0.84722222222222221\n",
    "GBT = 0.85925925925925928\n",
    "RF = 0.85185185185185186\n",
    "\n",
    "Accuracy_PCA:\n",
    "Logistic Regression = 0.82870370370370372\n",
    "SVM = 0.81944444444444442\n",
    "GBT = 0.82685185185185184"
   ]
  },
  {
   "cell_type": "markdown",
   "metadata": {},
   "source": [
    "3. For SparkML"
   ]
  },
  {
   "cell_type": "code",
   "execution_count": 41,
   "metadata": {},
   "outputs": [
    {
     "name": "stdout",
     "output_type": "stream",
     "text": [
      "('Logistic Regression Accuracy', 0.83444444444444443)\n",
      "('GBT Accuracy', 0.8913888888888889)\n",
      "('RF Accuracy', 0.87240740740740741)\n"
     ]
    }
   ],
   "source": [
    "from pyspark.ml.evaluation import BinaryClassificationEvaluator\n",
    "\n",
    "prediction_lr = prediction_lr.rdd.map(lambda row: row.prediction).collect()\n",
    "prediction_gbt = prediction_gbt.rdd.map(lambda row: row.prediction).collect()\n",
    "prediction_rf = prediction_rf.rdd.map(lambda row: row.prediction).collect()\n",
    "\n",
    "evaluator = BinaryClassificationEvaluator()\n",
    "\n",
    "print('Logistic Regression Accuracy', accuracy_score(prediction_lr, labels))\n",
    "\n",
    "print('GBT Accuracy', accuracy_score(prediction_gbt, labels))\n",
    "\n",
    "print('RF Accuracy', accuracy_score(prediction_rf, labels))"
   ]
  },
  {
   "cell_type": "raw",
   "metadata": {},
   "source": [
    "Accuracy\n",
    "Logistic Regression = 0.83444444444444443\n",
    "GBT Accuracy =  0.8913888888888889\n",
    "RF Accuracy =  0.87240740740740741\n",
    "\n",
    "Accuracy_PCA\n",
    "Logistic Regression = 0.83444444444444443\n",
    "GBT Accuracy =  0.85203703703703704"
   ]
  }
 ],
 "metadata": {
  "kernelspec": {
   "display_name": "Python 2 with Spark 2.1",
   "language": "python",
   "name": "python2-spark21"
  },
  "language_info": {
   "codemirror_mode": {
    "name": "ipython",
    "version": 2
   },
   "file_extension": ".py",
   "mimetype": "text/x-python",
   "name": "python",
   "nbconvert_exporter": "python",
   "pygments_lexer": "ipython2",
   "version": "2.7.14"
  }
 },
 "nbformat": 4,
 "nbformat_minor": 1
}
